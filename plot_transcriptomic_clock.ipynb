{
  "cells": [
    {
      "cell_type": "markdown",
      "metadata": {},
      "source": [
        "\n# \"Transcriptomic Clock\" using GEO Data\n\nThis example loads transcriptomic data from GEO, calculates the predicted age using a transcriptomic clock, and plots it against chronological age. \n"
      ]
    },
    {
      "cell_type": "markdown",
      "metadata": {},
      "source": [
        "## First load up some transcriptomic data from GEO using the data library\n\n"
      ]
    },
    {
      "cell_type": "code",
      "execution_count": null,
      "metadata": {
        "collapsed": false
      },
      "outputs": [],
      "source": [
        "from biolearn.data_library import DataLibrary\n\ndata = DataLibrary().get(\"GSE134080\").load()"
      ]
    },
    {
      "cell_type": "markdown",
      "metadata": {},
      "source": [
        "## Now run the transcriptomic clock to predict age\n\n"
      ]
    },
    {
      "cell_type": "code",
      "execution_count": null,
      "metadata": {
        "collapsed": false
      },
      "outputs": [],
      "source": [
        "from biolearn.model_gallery import ModelGallery\n\nrna_model = ModelGallery().get(\"TranscriptomicPredictionModel\", imputation_method=\"none\")\npredicted =  rna_model.predict(data)"
      ]
    },
    {
      "cell_type": "markdown",
      "metadata": {},
      "source": [
        "## Plot the results against the chronological age using seaborn\n\n"
      ]
    },
    {
      "cell_type": "code",
      "execution_count": null,
      "metadata": {
        "collapsed": false
      },
      "outputs": [],
      "source": [
        "import matplotlib.pyplot as plt\nimport seaborn as sns\nfrom scipy.stats import pearsonr\n\npredicted_values = predicted['Predicted']\ntrue_values = data.metadata['age']\n\ncorrelation, _ = pearsonr(true_values, predicted_values)\nprint(f\"Pearson Correlation Coefficient: {correlation}\")\n\nsns.set_theme(style=\"whitegrid\")\nsns.regplot(x=true_values, y=predicted_values, scatter_kws={'alpha':0.5})\nplt.title('Transcriptomic Prediction Model')\nplt.xlabel('Chronological Age')\nplt.ylabel('Transcriptomic Age')\nplt.show()"
      ]
    }
  ],
  "metadata": {
    "kernelspec": {
      "display_name": "Python 3",
      "language": "python",
      "name": "python3"
    },
    "language_info": {
      "codemirror_mode": {
        "name": "ipython",
        "version": 3
      },
      "file_extension": ".py",
      "mimetype": "text/x-python",
      "name": "python",
      "nbconvert_exporter": "python",
      "pygments_lexer": "ipython3",
      "version": "3.10.12"
    }
  },
  "nbformat": 4,
  "nbformat_minor": 0
}